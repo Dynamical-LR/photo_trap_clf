{
  "cells": [
    {
      "cell_type": "code",
      "source": [
        "root = '/content/drive/MyDrive/phototrap/'"
      ],
      "metadata": {
        "id": "w6VNrX-wRzkK"
      },
      "execution_count": 2,
      "outputs": []
    },
    {
      "cell_type": "code",
      "execution_count": 3,
      "metadata": {
        "colab": {
          "base_uri": "https://localhost:8080/"
        },
        "id": "BduI9gFcEsFq",
        "outputId": "1b10ef08-9148-4409-8038-75dddac1c385"
      },
      "outputs": [
        {
          "output_type": "stream",
          "name": "stdout",
          "text": [
            "CUDA is available!  Training on GPU ...\n"
          ]
        }
      ],
      "source": [
        "import torch\n",
        "import numpy as np\n",
        "\n",
        "train_on_gpu = torch.cuda.is_available()\n",
        "\n",
        "if not train_on_gpu:\n",
        "    print('CUDA is not available.  Training on CPU ...')\n",
        "else:\n",
        "    print('CUDA is available!  Training on GPU ...')"
      ]
    },
    {
      "cell_type": "code",
      "execution_count": 4,
      "metadata": {
        "colab": {
          "base_uri": "https://localhost:8080/"
        },
        "id": "HC2x1-bsExM2",
        "outputId": "ed2611e4-cc28-4a1e-be96-53977b3a8f19"
      },
      "outputs": [
        {
          "output_type": "stream",
          "name": "stdout",
          "text": [
            "rm: cannot remove 'sample_rate': No such file or directory\n",
            "Mounted at /content/drive\n"
          ]
        }
      ],
      "source": [
        "!rm sample_rate\n",
        "from google.colab import drive\n",
        "drive.mount('/content/drive')"
      ]
    },
    {
      "cell_type": "code",
      "execution_count": 5,
      "metadata": {
        "id": "z2W_E8-_EsFt"
      },
      "outputs": [],
      "source": [
        "import pickle\n",
        "import numpy as np\n",
        "import pandas as pd\n",
        "import random\n",
        "from skimage import io\n",
        "from sklearn.metrics import accuracy_score, roc_auc_score\n",
        "import os\n",
        "from glob import glob\n",
        "\n",
        "from tqdm import tqdm, tqdm_notebook\n",
        "from PIL import Image\n",
        "from pathlib import Path\n",
        "\n",
        "from torchvision import transforms\n",
        "from multiprocessing.pool import ThreadPool\n",
        "from sklearn.preprocessing import LabelEncoder\n",
        "import torch.utils.data\n",
        "from torch.utils.data import Dataset, DataLoader, ConcatDataset\n",
        "from torchvision.datasets import ImageFolder\n",
        "from torchvision import datasets, transforms\n",
        "\n",
        "import torch.nn as nn\n",
        "\n",
        "from matplotlib import colors, pyplot as plt\n",
        "import seaborn as sns\n",
        "%matplotlib inline\n",
        "\n",
        "import warnings\n",
        "warnings.filterwarnings(action='ignore', category=DeprecationWarning)\n",
        "\n",
        "np.random.seed(42)\n",
        "torch.manual_seed(42)\n",
        "torch.cuda.manual_seed(42)\n",
        "torch.backends.cudnn.deterministic = True"
      ]
    },
    {
      "cell_type": "code",
      "execution_count": 6,
      "metadata": {
        "id": "91D0rEkAEsFu",
        "colab": {
          "base_uri": "https://localhost:8080/"
        },
        "outputId": "14c75016-9d9d-488e-a6a1-aa443837fc16"
      },
      "outputs": [
        {
          "output_type": "execute_result",
          "data": {
            "text/plain": [
              "device(type='cuda')"
            ]
          },
          "metadata": {},
          "execution_count": 6
        }
      ],
      "source": [
        "DEVICE = torch.device(\"cuda\" if train_on_gpu else \"cpu\")\n",
        "DEVICE"
      ]
    },
    {
      "cell_type": "markdown",
      "source": [
        "# Setup"
      ],
      "metadata": {
        "id": "2U83G_CdM1DB"
      }
    },
    {
      "cell_type": "code",
      "execution_count": 7,
      "metadata": {
        "id": "gBiiSRuTzTsL"
      },
      "outputs": [],
      "source": [
        "SIZE = 224\n",
        "\n",
        "transform = transforms.Compose([\n",
        "    transforms.Resize((SIZE, SIZE)),\n",
        "    transforms.ToTensor(),\n",
        "    transforms.Normalize([0.485, 0.456, 0.406], [0.229, 0.224, 0.225])\n",
        "])\n",
        "\n",
        "transform_aug = transforms.Compose([\n",
        "    transforms.RandomPerspective(distortion_scale=0.05, p=0.2),\n",
        "    transforms.RandomRotation(degrees=(-10, 10)),\n",
        "    transforms.RandomHorizontalFlip(p=0.2),\n",
        "    transforms.RandomVerticalFlip(p=0.2),\n",
        "\n",
        "    transforms.Resize((SIZE, SIZE)),\n",
        "    transforms.ToTensor(),\n",
        "    transforms.Normalize([0.485, 0.456, 0.406], [0.229, 0.224, 0.225])\n",
        "])"
      ]
    },
    {
      "cell_type": "code",
      "execution_count": 8,
      "metadata": {
        "id": "qTgx7kWMzTyf"
      },
      "outputs": [],
      "source": [
        "train_set = datasets.ImageFolder(root+'photo_traps_dataset/train', transform=transform_aug)\n",
        "val_set = datasets.ImageFolder(root+'photo_traps_dataset/val', transform=transform)"
      ]
    },
    {
      "cell_type": "code",
      "source": [
        "train_loader = torch.utils.data.DataLoader(dataset=train_set, batch_size=50, shuffle=True)\n",
        "val_loader = torch.utils.data.DataLoader(dataset=val_set, batch_size=50, shuffle=False)"
      ],
      "metadata": {
        "id": "xMA5cKjvN_p6"
      },
      "execution_count": 9,
      "outputs": []
    },
    {
      "cell_type": "code",
      "source": [
        "print(len(train_set), len(val_set))"
      ],
      "metadata": {
        "colab": {
          "base_uri": "https://localhost:8080/"
        },
        "id": "pEYbajz5N23n",
        "outputId": "78c14d77-45d5-4276-aa64-0bd5e3a0bdd6"
      },
      "execution_count": null,
      "outputs": [
        {
          "output_type": "stream",
          "name": "stdout",
          "text": [
            "6033 820\n"
          ]
        }
      ]
    },
    {
      "cell_type": "markdown",
      "source": [
        "# DINOv2\n"
      ],
      "metadata": {
        "id": "5O4LNIlpM8N1"
      }
    },
    {
      "cell_type": "code",
      "execution_count": 10,
      "metadata": {
        "id": "FYKMz-ckXGO8",
        "colab": {
          "base_uri": "https://localhost:8080/"
        },
        "outputId": "1c2ad9a7-9c7e-4817-ee82-3b33b8d4c504"
      },
      "outputs": [
        {
          "output_type": "stream",
          "name": "stderr",
          "text": [
            "Downloading: \"https://github.com/facebookresearch/dinov2/zipball/main\" to /root/.cache/torch/hub/main.zip\n",
            "/root/.cache/torch/hub/facebookresearch_dinov2_main/dinov2/layers/swiglu_ffn.py:51: UserWarning: xFormers is not available (SwiGLU)\n",
            "  warnings.warn(\"xFormers is not available (SwiGLU)\")\n",
            "/root/.cache/torch/hub/facebookresearch_dinov2_main/dinov2/layers/attention.py:33: UserWarning: xFormers is not available (Attention)\n",
            "  warnings.warn(\"xFormers is not available (Attention)\")\n",
            "/root/.cache/torch/hub/facebookresearch_dinov2_main/dinov2/layers/block.py:40: UserWarning: xFormers is not available (Block)\n",
            "  warnings.warn(\"xFormers is not available (Block)\")\n",
            "Downloading: \"https://dl.fbaipublicfiles.com/dinov2/dinov2_vits14/dinov2_vits14_pretrain.pth\" to /root/.cache/torch/hub/checkpoints/dinov2_vits14_pretrain.pth\n",
            "100%|██████████| 84.2M/84.2M [00:00<00:00, 245MB/s]\n"
          ]
        }
      ],
      "source": [
        "dinov2_vits14 = torch.hub.load('facebookresearch/dinov2', 'dinov2_vits14')"
      ]
    },
    {
      "cell_type": "code",
      "source": [
        "class DinoVisionTransformerClassifier(nn.Module):\n",
        "    def __init__(self):\n",
        "        super().__init__()\n",
        "        self.transformer = dinov2_vits14\n",
        "        self.classifier = nn.Sequential(\n",
        "            nn.Linear(384, 256),\n",
        "            nn.ReLU(),\n",
        "            nn.Linear(256, 3)\n",
        "        )\n",
        "        self.detach = True\n",
        "\n",
        "    def forward(self, x):\n",
        "        x = self.transformer(x)\n",
        "        if self.detach:\n",
        "            x = x.detach()\n",
        "        x = self.classifier(x)\n",
        "        return x"
      ],
      "metadata": {
        "id": "xVa8PbTsxNpX"
      },
      "execution_count": 11,
      "outputs": []
    },
    {
      "cell_type": "code",
      "source": [
        "dino = DinoVisionTransformerClassifier().to(DEVICE)\n",
        "dino.load_state_dict(torch.load(root+'dinov2_f4.pth', map_location=DEVICE))\n",
        "dino.detach = False"
      ],
      "metadata": {
        "id": "f2NUyI2zxTrH"
      },
      "execution_count": 21,
      "outputs": []
    },
    {
      "cell_type": "code",
      "source": [
        "epochs = 10\n",
        "criteria = nn.CrossEntropyLoss()\n",
        "opt = torch.optim.AdamW(dino.parameters(), 1e-4)\n",
        "tr_loss, val_loss = [], []\n",
        "tr_acc, val_acc = [], []"
      ],
      "metadata": {
        "id": "s5zf2NAsIsIw"
      },
      "execution_count": 22,
      "outputs": []
    },
    {
      "cell_type": "code",
      "source": [
        "# turn to fine-tuning from head-training\n",
        "for g in opt.param_groups:\n",
        "   g['lr'] = 1e-6\n",
        "dino.detach = False"
      ],
      "metadata": {
        "id": "Wi-HnpFyyFwc"
      },
      "execution_count": 23,
      "outputs": []
    },
    {
      "cell_type": "code",
      "source": [
        "for epoch in range(5, epochs):\n",
        "    tl, vl, tm, vm = [], [], [], []\n",
        "\n",
        "    # train round\n",
        "    preds, targets = [], []\n",
        "    dino.train()\n",
        "    for X, y in tqdm(train_loader, leave=False):\n",
        "        pred, target = dino(X.to(DEVICE)), y.to(DEVICE)\n",
        "\n",
        "        l = criteria(pred, target)\n",
        "        opt.zero_grad(); l.backward(); opt.step()\n",
        "        tl.append(l.detach().cpu().item())\n",
        "        preds.append(pred.detach().cpu())\n",
        "        targets.append(target.detach().cpu())\n",
        "\n",
        "    preds = torch.cat(preds, 0).numpy()\n",
        "    targets = torch.cat(targets, 0).numpy()\n",
        "\n",
        "    tl, tm = np.mean(tl), accuracy_score(targets, np.argmax(preds, 1))\n",
        "\n",
        "    # val round\n",
        "    preds, targets = [], []\n",
        "    dino.eval()\n",
        "    with torch.no_grad():\n",
        "        for X, y in tqdm(val_loader, leave=False):\n",
        "            pred, target = dino(X.to(DEVICE)), y.to(DEVICE)\n",
        "\n",
        "            l = criteria(pred, target)\n",
        "            vl.append(l.detach().cpu().item())\n",
        "\n",
        "            preds.append(pred.detach().cpu())\n",
        "            targets.append(target.detach().cpu())\n",
        "\n",
        "    preds = torch.cat(preds, 0).numpy()\n",
        "    targets = torch.cat(targets, 0).numpy()\n",
        "\n",
        "    vl, vm = np.mean(vl), accuracy_score(targets, np.argmax(preds, 1))\n",
        "\n",
        "    tr_loss.append(tl); val_loss.append(vl)\n",
        "    tr_acc.append(tm); val_acc.append(vm)\n",
        "    print(f'epoch {epoch}| loss = {tl:.4f} val_loss = {vl:.4f} | acc = {tm*100:.2f}%  val_acc = {vm*100:.2f}%')\n",
        "\n",
        "    torch.save(dino.state_dict(), root+f'dinov2_f{epoch}.pth')"
      ],
      "metadata": {
        "id": "fhGu5jGZw7dk",
        "colab": {
          "base_uri": "https://localhost:8080/"
        },
        "outputId": "e283d472-556a-4abd-f90b-42a0a1996e66"
      },
      "execution_count": null,
      "outputs": [
        {
          "output_type": "stream",
          "name": "stderr",
          "text": [
            "  4%|▍         | 5/121 [04:54<1:55:24, 59.69s/it]"
          ]
        }
      ]
    },
    {
      "cell_type": "code",
      "source": [
        "# история обучения (ранее предобучены дино и 5 эпох головы - метрики потеряны)\n",
        "# epoch 0| loss = 0.2862 val_loss = 0.2063 | acc = 90.32%  val_acc = 93.78%\n",
        "# epoch 1| loss = 0.1710 val_loss = 0.1722 | acc = 94.26%  val_acc = 94.76%\n",
        "# epoch 2| loss = 0.1293 val_loss = 0.1555 | acc = 95.77%  val_acc = 94.76%\n",
        "# epoch 3| loss = 0.1057 val_loss = 0.1539 | acc = 96.39%  val_acc = 95.61%\n",
        "# epoch 4| loss = 0.0951 val_loss = 0.1476 | acc = 96.78%  val_acc = 95.37%"
      ],
      "metadata": {
        "id": "iIv8sdfb5XV6"
      },
      "execution_count": null,
      "outputs": []
    },
    {
      "cell_type": "code",
      "execution_count": 22,
      "metadata": {
        "id": "xHaXiv2XEsF8",
        "colab": {
          "base_uri": "https://localhost:8080/",
          "height": 315
        },
        "outputId": "063d6af5-25d7-48f8-9805-b75f2678ee25"
      },
      "outputs": [
        {
          "output_type": "display_data",
          "data": {
            "text/plain": [
              "<Figure size 1000x300 with 2 Axes>"
            ],
            "image/png": "[encoded data removed]"
          },
          "metadata": {}
        }
      ],
      "source": [
        "plt.figure(figsize=(10, 3))\n",
        "\n",
        "plt.subplot(121)\n",
        "plt.grid(True)\n",
        "plt.plot(tr_loss, label=\"train_loss\")\n",
        "plt.plot(val_loss, label=\"val_loss\")\n",
        "plt.legend(loc='best')\n",
        "plt.xlabel(\"epochs\")\n",
        "plt.ylabel(\"loss\")\n",
        "\n",
        "plt.subplot(122)\n",
        "plt.grid(True)\n",
        "plt.plot(range(1, len(tr_acc)), tr_acc[1:], label=\"train_acc\")\n",
        "plt.plot(range(1, len(tr_acc)), val_acc[1:], label=\"val_acc\")\n",
        "plt.legend(loc='best')\n",
        "plt.xlabel(\"epochs\")\n",
        "plt.ylabel(\"accuracy\")\n",
        "plt.ylim(0,1)\n",
        "\n",
        "plt.show()"
      ]
    },
    {
      "cell_type": "markdown",
      "source": [
        "# Test"
      ],
      "metadata": {
        "id": "cDeGxG4Rbmu4"
      }
    },
    {
      "cell_type": "code",
      "source": [
        "def pil_loader(path: str) -> Image.Image:\n",
        "    with open(path, \"rb\") as f:\n",
        "        try:\n",
        "            img = Image.open(f).convert(\"RGB\")\n",
        "        except:\n",
        "            img = Image.new(\"RGB\", (224, 224))\n",
        "        return img"
      ],
      "metadata": {
        "id": "NEKYF4qKYNWr"
      },
      "execution_count": 13,
      "outputs": []
    },
    {
      "cell_type": "code",
      "source": [
        "test_set = datasets.ImageFolder(root+'photo_traps_dataset/test', loader=pil_loader, transform=transform)\n",
        "test_loader = torch.utils.data.DataLoader(dataset=test_set, batch_size=16, shuffle=False)"
      ],
      "metadata": {
        "id": "_CNGUQS-dLMS"
      },
      "execution_count": 14,
      "outputs": []
    },
    {
      "cell_type": "code",
      "source": [
        "dino.load_state_dict(torch.load(root+'dinov2_f3.pth', map_location=DEVICE))"
      ],
      "metadata": {
        "colab": {
          "base_uri": "https://localhost:8080/"
        },
        "id": "lHLsrZ-Y0F3T",
        "outputId": "b691b372-7089-4d87-9545-6e563aa65e63"
      },
      "execution_count": 17,
      "outputs": [
        {
          "output_type": "execute_result",
          "data": {
            "text/plain": [
              "<All keys matched successfully>"
            ]
          },
          "metadata": {},
          "execution_count": 17
        }
      ]
    },
    {
      "cell_type": "code",
      "source": [
        "preds, targets = [], []\n",
        "dino.eval()\n",
        "with torch.no_grad():\n",
        "    for X, y in tqdm(test_loader, leave=False):\n",
        "        pred, target = dino(X.to(DEVICE)), y.to(DEVICE)\n",
        "        preds.append(pred.detach().cpu())\n",
        "        targets.append(target.detach().cpu())\n",
        "\n",
        "preds = torch.cat(preds, 0)\n",
        "targets = torch.cat(targets, 0).numpy()\n",
        "\n",
        "print(accuracy_score(targets, np.argmax(preds.clone().detach().numpy(), 1)),\n",
        "      roc_auc_score(targets, torch.softmax(torch.tensor(preds), 1).clone().detach().numpy(), multi_class='ovr'))"
      ],
      "metadata": {
        "colab": {
          "base_uri": "https://localhost:8080/"
        },
        "id": "YkyBdRgWAFL6",
        "outputId": "1d0c293a-486c-4240-ca4d-9548cd85a622"
      },
      "execution_count": 18,
      "outputs": [
        {
          "output_type": "stream",
          "name": "stderr",
          "text": [
            "                                               "
          ]
        },
        {
          "output_type": "stream",
          "name": "stdout",
          "text": [
            "0.9548989113530326 0.9909499829844544\n"
          ]
        },
        {
          "output_type": "stream",
          "name": "stderr",
          "text": [
            "\r<ipython-input-18-0588f2685b29>:13: UserWarning: To copy construct from a tensor, it is recommended to use sourceTensor.clone().detach() or sourceTensor.clone().detach().requires_grad_(True), rather than torch.tensor(sourceTensor).\n",
            "  roc_auc_score(targets, torch.softmax(torch.tensor(preds), 1).clone().detach().numpy(), multi_class='ovr'))\n"
          ]
        }
      ]
    },
    {
      "cell_type": "code",
      "source": [
        "# тестовые метрики:\n",
        "# 3:  0.8631415241057543 0.9770387456743767\n",
        "# 5:  0.9237947122861586 0.9805411254689033\n",
        "# 7:  0.9206842923794712 0.9753164022193199\n",
        "# после обогащения:\n",
        "# f3: 0.9548989113530326 0.9909499829844544\n",
        "# f4: 0.9611197511664075 0.9902319082743954\n"
      ],
      "metadata": {
        "id": "0-6ihI5A4R07"
      },
      "execution_count": null,
      "outputs": []
    },
    {
      "cell_type": "code",
      "source": [
        "df = pd.DataFrame(test_set.samples)\n",
        "df[ df[1] != np.argmax(preds.clone().detach().numpy(), 1) ][1].hist()"
      ],
      "metadata": {
        "colab": {
          "base_uri": "https://localhost:8080/",
          "height": 445
        },
        "id": "T8_tRbso4XHp",
        "outputId": "bc63360f-77ac-4a47-8700-29793100f3b5"
      },
      "execution_count": null,
      "outputs": [
        {
          "output_type": "execute_result",
          "data": {
            "text/plain": [
              "<Axes: >"
            ]
          },
          "metadata": {},
          "execution_count": 43
        },
        {
          "output_type": "display_data",
          "data": {
            "text/plain": [
              "<Figure size 640x480 with 1 Axes>"
            ],
            "image/png": "[encoded data removed]"
          },
          "metadata": {}
        }
      ]
    }
  ],
  "metadata": {
    "colab": {
      "provenance": [],
      "gpuType": "T4",
      "collapsed_sections": [
        "UKIVsgXZYhLi"
      ]
    },
    "kernelspec": {
      "display_name": "Python 3",
      "name": "python3"
    },
    "language_info": {
      "codemirror_mode": {
        "name": "ipython",
        "version": 3
      },
      "file_extension": ".py",
      "mimetype": "text/x-python",
      "name": "python",
      "nbconvert_exporter": "python",
      "pygments_lexer": "ipython3",
      "version": "3.8.3"
    },
    "accelerator": "GPU"
  },
  "nbformat": 4,
  "nbformat_minor": 0
}